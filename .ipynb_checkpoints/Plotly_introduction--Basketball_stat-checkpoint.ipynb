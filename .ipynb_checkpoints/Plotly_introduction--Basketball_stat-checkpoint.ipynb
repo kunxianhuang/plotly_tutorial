{
 "cells": [
  {
   "cell_type": "markdown",
   "metadata": {},
   "source": [
    "# Plotly introduction\n",
    "\n",
    "## Overview \n",
    "from Plotly homepage:  https://plotly.com/python/getting-started/  \n",
    "The plotly Python library is an interactive, open-source plotting library that supports over 40 unique chart types covering a wide range of **statistical, financial, geographic, scientific, and 3-dimensional use-cases**.\n",
    "\n",
    "Built on top of the Plotly JavaScript library (plotly.js), plotly enables Python users to create beautiful interactive web-based visualizations that can be displayed in Jupyter notebooks, saved to standalone HTML files, or served as part of pure Python-built web applications using Dash. The plotly Python library is sometimes referred to as \"plotly.py\" to differentiate it from the JavaScript library.\n",
    "\n",
    "**Interactive Plot**\n",
    "* You can add tons of information on the plot which is presented.\n",
    "* Give user to dive deeper into data.\n",
    "* Change plot by user's input immediately.\n",
    "* It is **cool**.\n",
    "\n",
    "![Plotly_interactive](figure/1_Ziyw7KOUOaWNy-oOyIyDHQ.gif )\n",
    "\n",
    "### Installation of Plotly\n",
    "* pip: ``pip install plotly``\n",
    "* conda: ``conda install plotly``\n",
    "\n",
    "### Installation of Jupyter Notebook Support\n",
    "* pip: ``pip install \"notebook>=5.3\" \"ipywidgets>=7.2\"``\n",
    "* conda: ``conda install \"notebook>=5.3\" \"ipywidgets>=7.2\"``"
   ]
  },
  {
   "cell_type": "code",
   "execution_count": null,
   "metadata": {},
   "outputs": [],
   "source": [
    "# plotly importing with embedding in joupter notebook, \n",
    "# or one plot will save a html file and open in different windows\n",
    "from plotly.offline import init_notebook_mode,iplot\n",
    "import plotly.graph_objects as go\n",
    "import plotly.express as px\n",
    "\n",
    "#import cufflinks as cf # some cufflinks examples in the end\n",
    "init_notebook_mode(connected=True)\n",
    "\n",
    "# Data science imports\n",
    "import pandas as pd\n",
    "import numpy as np\n",
    "\n",
    "%matplotlib inline\n",
    "\n",
    "# Options for pandas\n",
    "pd.options.display.max_columns = 40\n",
    "\n",
    "# Display all cell outputs\n",
    "from IPython.core.interactiveshell import InteractiveShell\n",
    "InteractiveShell.ast_node_interactivity = 'all'"
   ]
  },
  {
   "cell_type": "markdown",
   "metadata": {},
   "source": [
    "Plotly graph include **Data**, **Layout**, and **Figure**.\n",
    "* Data: Functions of Plot type, such as Pie, Histogram, Heatmap. Their inputs are data of the plot, for example: label and value, x, x and y, matrix, text, etc. \n",
    "* Layout: Layout of the plot. Some plot setting such as title, xtitle, show legend, etc can be defined.\n",
    "* Figure: take Data and Layout as its inputs."
   ]
  },
  {
   "cell_type": "markdown",
   "metadata": {},
   "source": [
    "### Data from kaggle"
   ]
  },
  {
   "cell_type": "markdown",
   "metadata": {},
   "source": [
    "#### Basketball Players Stats per Season - 49 Leagues\n",
    "https://www.kaggle.com/jacobbaruch/basketball-players-stats-per-season-49-leagues  \n",
    "![Kaggledataset](figure/Basket_stat_kaggle.png)\n",
    "\n",
    "Data License: [CC BY-NC-SA 4.0](https://creativecommons.org/licenses/by-nc-sa/4.0/)  \n",
    "Kaggle Data scraped from the wonderful site: [basketball real gm](https://basketball.realgm.com/)  "
   ]
  },
  {
   "cell_type": "code",
   "execution_count": null,
   "metadata": {},
   "outputs": [],
   "source": [
    "# readin csv file into dataframe, Plotly mainly access Ddataframe as its input data format\n",
    "df = pd.read_csv('data/players_stats_by_season_full_details.csv')\n",
    "df.head()"
   ]
  },
  {
   "cell_type": "code",
   "execution_count": null,
   "metadata": {},
   "outputs": [],
   "source": [
    "df.describe()"
   ]
  },
  {
   "cell_type": "markdown",
   "metadata": {},
   "source": [
    "### Pie chart\n",
    "\n",
    "\n",
    "\n",
    "Basic pie chart example in Plotly  \n",
    "https://plotly.com/python/pie-charts/"
   ]
  },
  {
   "cell_type": "code",
   "execution_count": null,
   "metadata": {},
   "outputs": [],
   "source": [
    "# Draw pie chart of number of players in each league\n",
    "df_league =df.groupby([\"League\",\"Player\"]).count().reset_index()\n",
    "#df_league.head()\n",
    "#df_league.groupby([\"League\"]).count()\n",
    "players_league = df_league.groupby([\"League\"]).count()\n",
    "players_league.head()"
   ]
  },
  {
   "cell_type": "markdown",
   "metadata": {},
   "source": [
    "#### Plotly.graph_objects  \n",
    "official reference of pie chart: https://plotly.com/python/reference/pie/  \n"
   ]
  },
  {
   "cell_type": "code",
   "execution_count": null,
   "metadata": {},
   "outputs": [],
   "source": [
    "label = players_league.index.to_list()\n",
    "numbers = players_league[\"Player\"]\n",
    "figure = go.Figure(\n",
    "                data=[go.Pie(labels=label, values=numbers, \n",
    "                # Seting hover information to label and value\n",
    "                hoverinfo=\"label+value\"\n",
    "              )],\n",
    "                    layout=dict(title=\"Players %%!number in each League (2010~2019)\"))\n",
    "#figure.update_layout(title=\"Players in each Baesketball League\")\n",
    "#figure.show()\n",
    "iplot(figure)"
   ]
  },
  {
   "cell_type": "markdown",
   "metadata": {},
   "source": [
    "#### plotly.express  \n",
    "Plotly.express provide a easy code for plotting but not so many functions.\n"
   ]
  },
  {
   "cell_type": "code",
   "execution_count": null,
   "metadata": {},
   "outputs": [],
   "source": [
    "players_league.reset_index(inplace=True)"
   ]
  },
  {
   "cell_type": "code",
   "execution_count": null,
   "metadata": {},
   "outputs": [],
   "source": [
    "figure = px.pie(players_league, values='Player', names='League',\n",
    "             title='Players number of each League (2010~2020)',\n",
    "              hover_data=['Player'] )\n",
    "figure.update_traces(textposition='inside', textinfo='percent')\n",
    "#figure.show()"
   ]
  },
  {
   "cell_type": "markdown",
   "metadata": {},
   "source": [
    "### Histogram chart\n",
    "\n",
    "\n",
    "\n",
    "Basic histogram chart example in Plotly  \n",
    "https://plotly.com/python/histograms/  \n",
    "\n",
    "#### Plotly.graph_objects.Histogram\n",
    "Reference  \n",
    "https://plotly.com/python/reference/histogram/\n"
   ]
  },
  {
   "cell_type": "code",
   "execution_count": null,
   "metadata": {},
   "outputs": [],
   "source": [
    "# Compare three points attempts (3pa) between NBA and Euroleague of each year, each players\n",
    "\n",
    "figure = go.Figure(data=[\n",
    "    go.Histogram(x=df[df.League==\"NBA\"][\"3PA\"], name=\"NBA\",opacity=0.9),\n",
    "    go.Histogram(x=df[df.League==\"Euroleague\"][\"3PA\"], name=\"Euroleague\",opacity=0.9)])\n",
    "\n",
    "# Overlay both histograms\n",
    "figure.update_layout(barmode='overlay')\n",
    "# Reduce opacity to see both histograms\n",
    "#figure.update_traces(opacity=0.75)\n",
    "#figure.show()"
   ]
  },
  {
   "cell_type": "code",
   "execution_count": null,
   "metadata": {},
   "outputs": [],
   "source": [
    "# sharing the same bins\n",
    "xbins = dict(start=0.0,\n",
    "        end=600.0,\n",
    "        size=10.0)\n",
    "figure = go.Figure(data=[\n",
    "    go.Histogram(x=df[df.League==\"NBA\"][\"3PA\"], name=\"NBA\", xbins = xbins,opacity=0.9),\n",
    "    go.Histogram(x=df[df.League==\"Euroleague\"][\"3PA\"], name=\"Euroleague\", xbins = xbins,opacity=0.9)])\n",
    "\n",
    "# Overlay both histograms\n",
    "figure=figure.update_layout(barmode='overlay', title_text='Three points attemps per year', # title of plot\n",
    "    xaxis_title_text='3PA', # xaxis label\n",
    "    yaxis_title_text='Count', # yaxis label\n",
    "    bargap=0.2, # gap between bars of adjacent location coordinates\n",
    "    bargroupgap=0.1 # gap between bars of the same location coordinates)\n",
    "                    )\n",
    "figure.show()"
   ]
  },
  {
   "cell_type": "markdown",
   "metadata": {},
   "source": [
    "#### plotly.express.histogram\n",
    "Plotly.express provide a easy code for plotting but not so many functions.  \n",
    "Reference: https://plotly.com/python-api-reference/generated/plotly.express.histogram.html?highlight=express%20histogram#plotly.express.histogram"
   ]
  },
  {
   "cell_type": "code",
   "execution_count": null,
   "metadata": {},
   "outputs": [],
   "source": [
    "range_x =[0,600]\n",
    "nbins = int(600/10)\n",
    "figure = px.histogram(df[(df.League==\"NBA\")|(df.League==\"Euroleague\")|(df.League==\"Australian-NBL\")], x=\"3PA\", color=\"League\",\n",
    "                      opacity=0.9,range_x=range_x,nbins=nbins, \n",
    "                      hover_data=['Player','Season'], #marginal=\"rug\"  # visualizing distribution   \n",
    "                     )\n",
    "\n",
    "figure=figure.update_layout(barmode=\"group\", title_text='Three points attemps per year', # title of plot\n",
    "    xaxis_title_text='3PA', # xaxis label\n",
    "    yaxis_title_text='Count', # yaxis label\n",
    "    bargap=0.2, # gap between bars of adjacent location coordinates\n",
    "    bargroupgap=0.1 # gap between bars of the same location coordinates)\n",
    "                           )\n",
    "figure.show()\n"
   ]
  },
  {
   "cell_type": "markdown",
   "metadata": {},
   "source": [
    "### Bar Chart\n",
    "\n",
    "Basic Bar plots example: https://plotly.com/python/bar-charts/   \n",
    "#### Plotly.graph_objects.Bar  \n",
    "\n",
    "Reference: https://plotly.com/python/reference/bar/"
   ]
  },
  {
   "cell_type": "code",
   "execution_count": null,
   "metadata": {},
   "outputs": [],
   "source": [
    "# comparing total 3PA each year in NBA and Euroleague\n",
    "df_NBA_year= df[df.League==\"NBA\"].groupby([\"Season\"]).sum().reset_index(inplace=False)\n",
    "df_Euroleague_year= df[df.League==\"Euroleague\"].groupby([\"Season\"]).sum().reset_index(inplace=False)\n",
    "\n",
    "df_NBA_year.head()"
   ]
  },
  {
   "cell_type": "code",
   "execution_count": null,
   "metadata": {},
   "outputs": [],
   "source": [
    "figure = go.Figure(data=[\n",
    "    go.Bar(name=\"NBA\", x=df_NBA_year[\"Season\"], y=df_NBA_year[\"3PA\"]),\n",
    "    go.Bar(name=\"Euroleague\", x=df_Euroleague_year[\"Season\"], y=df_Euroleague_year[\"3PA\"])\n",
    "])\n",
    "# Change the bar mode\n",
    "figure=figure.update_layout(barmode='group',title=\"Total 3PA of each year in league\",\n",
    "                           xaxis_title_text=\"Total 3PA\",yaxis_title_text=\"Count\")\n",
    "figure.show()\n"
   ]
  },
  {
   "cell_type": "markdown",
   "metadata": {},
   "source": [
    "#### Plotly.express.bar  \n",
    "Reference: https://plotly.com/python-api-reference/generated/plotly.express.bar.html?highlight=express%20bar#plotly.express.bar"
   ]
  },
  {
   "cell_type": "code",
   "execution_count": null,
   "metadata": {},
   "outputs": [],
   "source": [
    "df_NBA_year[\"League\"] = \"NBA\"\n",
    "df_Euroleague_year[\"League\"] = \"Euroleague\"\n",
    "df_2League_year = pd.concat([df_NBA_year,df_Euroleague_year])"
   ]
  },
  {
   "cell_type": "code",
   "execution_count": null,
   "metadata": {},
   "outputs": [],
   "source": [
    "\n",
    "figure = px.bar(df_2League_year, x='Season', y='3PA',color='League', hover_data=['3PA','3PM'])\n",
    "# Change the bar mode\n",
    "figure=figure.update_layout(barmode='group',title=\"Total 3PA of each year in league\",\n",
    "                           xaxis_title_text=\"Total 3PA\",yaxis_title_text=\"Count\")            \n",
    "figure.show()\n"
   ]
  },
  {
   "cell_type": "markdown",
   "metadata": {},
   "source": [
    "### Scatter Plot\n",
    "\n",
    "Basic Scatter and line plots example: https://plotly.com/python/line-and-scatter/\n",
    "#### Plotly.graph_objects.Scatter\n",
    "\n",
    "Reference: https://plotly.com/python/reference/scatter/"
   ]
  },
  {
   "cell_type": "code",
   "execution_count": null,
   "metadata": {},
   "outputs": [],
   "source": [
    "# Field goals made and field goals attemp in NBA\n",
    "df_NBA_FG = df[df.League==\"NBA\"].groupby([\"Player\",\"Season\"]).sum().reset_index(inplace=False)\n",
    "df_NBA_FG.head()"
   ]
  },
  {
   "cell_type": "code",
   "execution_count": null,
   "metadata": {},
   "outputs": [],
   "source": [
    "text = df_NBA_FG['Player'].map('Player={} '.format) + df_NBA_FG['Season'].map('Season={}'.format)\n",
    "data = []\n",
    "scatter = go.Scatter(x=df_NBA_FG['FGA'],\n",
    "                                y=df_NBA_FG['FGM'],\n",
    "                                mode='markers',\n",
    "                                marker_color=df_NBA_FG['MIN'],\n",
    "                                text=text,\n",
    "                                marker=dict(colorbar=dict(title=\"MIN\",thickness=10,x = 0.99, y = 0.5)))\n",
    "data.append(scatter)\n",
    "\n",
    "# fit a line for data points\n",
    "m,b = np.polyfit(x=df_NBA_FG['FGA'],y=df_NBA_FG['FGM'], deg=1)\n",
    "bestfit_y = (df_NBA_FG['FGA'] * m + b)\n",
    "lineOfBestFit=go.Scattergl(\n",
    "    x=df_NBA_FG['FGA'],\n",
    "    y=bestfit_y,\n",
    "    name='Line of best fit',\n",
    "    line=dict(\n",
    "        color='blue',\n",
    "    )\n",
    ")\n",
    "data.append(lineOfBestFit)\n",
    "\n",
    "figure = go.Figure(data=data)\n",
    "figure=figure.update_layout(title='FGM verse FGA in NBA 2010~2020 ',\n",
    "                           xaxis_title_text=\"Field Goal Attemps\",yaxis_title_text=\"Field Goal Made\")\n",
    "figure.show()\n",
    "#print(df_NBA_FG[df_NBA_FG.Player==\"Kobe Bryant\"])"
   ]
  },
  {
   "cell_type": "markdown",
   "metadata": {},
   "source": [
    "#### Plotly.express.scatter \n",
    "Reference: https://plotly.com/python-api-reference/generated/plotly.express.scatter.html?highlight=express%20scatter#plotly.express.scatter"
   ]
  },
  {
   "cell_type": "code",
   "execution_count": null,
   "metadata": {},
   "outputs": [],
   "source": [
    "figure = px.scatter(df_NBA_FG, x=\"FGA\", y=\"FGM\", color=\"MIN\",\n",
    "                  hover_data=['Player','Season'])\n",
    "\n",
    "\n",
    "figure=figure.update_layout(title='FGM verse FGA in NBA 2010~2020 ',\n",
    "                           xaxis_title_text=\"Field Goal Attemps\",yaxis_title_text=\"Field Goal Made\")\n",
    "figure.show()\n"
   ]
  },
  {
   "cell_type": "markdown",
   "metadata": {},
   "source": [
    "### Bubble Chart  \n",
    "\n",
    "Basic bubble chart example: https://plotly.com/python/bubble-charts/  \n",
    "Actually, you can define size of marker in scattering plot as bubble plot.\n",
    "\n",
    "#### Plotly.graph_objects.Scatter"
   ]
  },
  {
   "cell_type": "code",
   "execution_count": null,
   "metadata": {},
   "outputs": [],
   "source": [
    "# Draw total points (PTS), three point made (3PM), and rebounds (REB) of each team each season in NBA\n",
    "df_NBA_team = df[df.League==\"NBA\"].groupby([\"Team\",\"Season\"]).sum().reset_index(inplace=False)\n",
    "\n",
    "df_NBA_team.head()"
   ]
  },
  {
   "cell_type": "code",
   "execution_count": null,
   "metadata": {},
   "outputs": [],
   "source": [
    "seasons = df_NBA_team[\"Season\"].unique()\n",
    "figure = go.Figure(data=[go.Scatter(\n",
    "    x=df_NBA_team[df_NBA_team.Season==season][\"FGM\"],\n",
    "    y=df_NBA_team[df_NBA_team.Season==season][\"3PM\"],\n",
    "    mode='markers',\n",
    "    text=df_NBA_team[df_NBA_team.Season==season][\"Team\"],\n",
    "    hoverinfo=['y'],\n",
    "    name=season,\n",
    "    marker=dict(\n",
    "        size=df_NBA_team[df_NBA_team.Season==season][\"REB\"]/250.0,\n",
    "        ))\n",
    " for season in seasons])\n",
    "figure=figure.update_layout(title='FGM verse 3PM in NBA 2010~2020 ',\n",
    "                           xaxis_title_text=\"Field Goal Made\",yaxis_title_text=\"3 Points Made\")\n",
    "figure.show()"
   ]
  },
  {
   "cell_type": "markdown",
   "metadata": {},
   "source": [
    "#### Plotly.express.scatter \n",
    "Reference: https://plotly.com/python-api-reference/generated/plotly.express.scatter.html?highlight=express%20scatter#plotly.express.scatter"
   ]
  },
  {
   "cell_type": "code",
   "execution_count": null,
   "metadata": {},
   "outputs": [],
   "source": [
    "fig = px.scatter(df_NBA_team, x=\"FGM\", y=\"3PM\",\n",
    "                 size=\"REB\", color=\"Season\",\n",
    "                 hover_data=['REB','Season','Team'], size_max=20,\n",
    "                 title='FGM verse 3PM in NBA 2010~2020 ')\n",
    "\n",
    "fig.show()\n"
   ]
  },
  {
   "cell_type": "markdown",
   "metadata": {},
   "source": [
    "### Box Plot\n",
    "\n",
    "Basic box plot example: https://plotly.com/python/box-plots/  \n",
    "\n",
    "\n",
    "#### Plotly.graph_objects.Box\n",
    "https://plotly.com/python/reference/box/"
   ]
  },
  {
   "cell_type": "code",
   "execution_count": null,
   "metadata": {},
   "outputs": [],
   "source": [
    "df_2009 = df[(df.League==\"NBA\")&(df.Season==\"2009 - 2010\")].groupby([\"Team\"]).sum().reset_index(inplace=False)\n",
    "df_2014 = df[(df.League==\"NBA\")&(df.Season==\"2014 - 2015\")].groupby([\"Team\"]).sum().reset_index(inplace=False)\n",
    "df_2018 = df[(df.League==\"NBA\")&(df.Season==\"2018 - 2019\")].groupby([\"Team\"]).sum().reset_index(inplace=False)\n"
   ]
  },
  {
   "cell_type": "code",
   "execution_count": null,
   "metadata": {},
   "outputs": [],
   "source": [
    "figure = go.Figure()\n",
    "figure = figure.add_trace(go.Box(y=df_2009['3PA'], name= '2009 - 2010', boxpoints='all',\n",
    "                marker_color = 'indianred', text=df_2009['Team']))\n",
    "\n",
    "figure = figure.add_trace(go.Box(y=df_2014['3PA'], name = '2014 - 2015', #boxpoints='all',\n",
    "                marker_color = 'lightseagreen', text=df_2014['Team']))\n",
    "\n",
    "figure = figure.add_trace(go.Box(y=df_2018['3PA'], name = '2018 - 2019', #boxpoints='all',\n",
    "                marker_color = 'darkblue', text=df_2018['Team']))\n",
    "\n",
    "figure=figure.update_layout(title='3PM in NBA 2009, 2014, 2018 ',\n",
    "                           yaxis_title_text=\"Total 3 Points Made\")\n",
    "figure.show()\n"
   ]
  },
  {
   "cell_type": "markdown",
   "metadata": {},
   "source": [
    "#### Plotly.express.box\n",
    "Reference: https://plotly.com/python-api-reference/generated/plotly.express.html#plotly.express.box "
   ]
  },
  {
   "cell_type": "code",
   "execution_count": null,
   "metadata": {},
   "outputs": [],
   "source": [
    "df_NBA_season=df[df.League==\"NBA\"].groupby([\"Team\",\"Season\"]).sum().reset_index(inplace=False)"
   ]
  },
  {
   "cell_type": "code",
   "execution_count": null,
   "metadata": {},
   "outputs": [],
   "source": [
    "figure = px.box(df_NBA_season, x=\"Season\", y=\"3PA\", #color=\"Season\",\n",
    "             notched=False, # used notched shape\n",
    "             title=\"Total 3PA distribution of all NBA teams\",\n",
    "             hover_data=[\"Team\"] # add day column to hover data\n",
    "            )\n",
    "\n",
    "figure.show()\n"
   ]
  },
  {
   "cell_type": "markdown",
   "metadata": {},
   "source": [
    "### Heatmap\n",
    "\n",
    "Basic heatmap example: https://plotly.com/python/heatmaps/  \n",
    "\n",
    "#### Plotly.graph_objects.Heatmap  \n",
    "https://plotly.com/python/reference/heatmap/"
   ]
  },
  {
   "cell_type": "code",
   "execution_count": null,
   "metadata": {},
   "outputs": [],
   "source": [
    "# correlation of total stastics for each player in NBA\n",
    "df_NBA_player=df[(df.League==\"NBA\")&(df.Stage!=\"Playoffs\")].groupby([\"Player\"]).sum().drop(['birth_year', 'height_cm', 'weight', 'weight_kg','League','Stage','Season','Team','birth_month','birth_date','height','nationality','high_school'], axis=1)\n",
    "df_NBA_player.head()"
   ]
  },
  {
   "cell_type": "code",
   "execution_count": null,
   "metadata": {},
   "outputs": [],
   "source": [
    "corrs = df_NBA_player.corr()\n",
    "corrs"
   ]
  },
  {
   "cell_type": "code",
   "execution_count": null,
   "metadata": {},
   "outputs": [],
   "source": [
    "figure = go.Figure(data=go.Heatmap(\n",
    "                   z=corrs,\n",
    "                   x=corrs.columns,\n",
    "                   y=corrs.index.to_list(),\n",
    "                   hoverongaps = False))\n",
    "figure=figure.update_layout(\n",
    "    title='Correlation matrix of NBA player stastics',\n",
    "    xaxis_nticks=17)\n",
    "figure.show()"
   ]
  },
  {
   "cell_type": "markdown",
   "metadata": {},
   "source": [
    "#### Plotly.express.imshow\n",
    "Reference: https://plotly.com/python-api-reference/generated/plotly.express.html#plotly.express.imshow"
   ]
  },
  {
   "cell_type": "code",
   "execution_count": null,
   "metadata": {},
   "outputs": [],
   "source": [
    "figure = px.imshow(corrs)\n",
    "figure.show()"
   ]
  },
  {
   "cell_type": "markdown",
   "metadata": {},
   "source": [
    "## cufflinks (supplyment)\n",
    " cufflinks link Dataframe with plotly, so you can draw with dataframe.iplot(.....)"
   ]
  },
  {
   "cell_type": "code",
   "execution_count": null,
   "metadata": {},
   "outputs": [],
   "source": [
    "import cufflinks\n",
    "cufflinks.go_offline()\n",
    "\n",
    "layout = go.Layout(xaxis=dict(type='date'))\n",
    "df = pd.read_parquet(\n",
    "    'https://github.com/WillKoehrsen/Data-Analysis/blob/master/plotly/data/medium_data_2019_01_06?raw=true'\n",
    ")\n",
    "\n",
    "df.iplot(kind='scatter', y='claps', x='published_date', mode='markers')\n"
   ]
  },
  {
   "cell_type": "markdown",
   "metadata": {},
   "source": [
    "### References\n",
    "\n",
    "Medium posts\n",
    "* https://towardsdatascience.com/matplotlib-vs-seaborn-vs-plotly-f2b79f5bddb\n",
    "* https://towardsdatascience.com/plotly-express-the-good-the-bad-and-the-ugly-dc941649687c \n",
    "* https://towardsdatascience.com/python-for-data-science-a-guide-to-data-visualization-with-plotly-969a59997d0c\n",
    "* https://towardsdatascience.com/the-next-level-of-data-visualization-in-python-dd6e99039d5e"
   ]
  },
  {
   "cell_type": "code",
   "execution_count": null,
   "metadata": {},
   "outputs": [],
   "source": []
  }
 ],
 "metadata": {
  "kernelspec": {
   "display_name": "Python 3 (ipykernel)",
   "language": "python",
   "name": "python3"
  },
  "language_info": {
   "codemirror_mode": {
    "name": "ipython",
    "version": 3
   },
   "file_extension": ".py",
   "mimetype": "text/x-python",
   "name": "python",
   "nbconvert_exporter": "python",
   "pygments_lexer": "ipython3",
   "version": "3.11.4"
  }
 },
 "nbformat": 4,
 "nbformat_minor": 4
}
