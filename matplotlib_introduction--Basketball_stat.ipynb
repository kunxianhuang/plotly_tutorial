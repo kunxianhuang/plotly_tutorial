{
 "cells": [
  {
   "cell_type": "markdown",
   "metadata": {},
   "source": [
    "# matplotlib baskeball plot\n",
    "\n",
    "it is copied from plotly tutorial\n",
    "\n",
    "### Installation of matplotlib\n",
    "* pip: ``pip install matplotlib``\n",
    "\n",
    "\n",
    "### Installation of Jupyter Notebook Support\n",
    "* pip: ``pip install \"notebook>=5.3\" \"ipywidgets>=7.2\"``"
   ]
  },
  {
   "cell_type": "code",
   "execution_count": null,
   "metadata": {},
   "outputs": [],
   "source": [
    "#import matplotlib here\n",
    "import matplotlib.pyplot as plt\n",
    "\n",
    "\n",
    "# Data science imports\n",
    "import pandas as pd\n",
    "import numpy as np\n",
    "\n",
    "%matplotlib inline\n",
    "\n",
    "# Options for pandas\n",
    "pd.options.display.max_columns = 40\n",
    "\n",
    "# Display all cell outputs\n",
    "from IPython.core.interactiveshell import InteractiveShell\n",
    "InteractiveShell.ast_node_interactivity = 'all'"
   ]
  },
  {
   "cell_type": "markdown",
   "metadata": {},
   "source": [
    "### Data from kaggle"
   ]
  },
  {
   "cell_type": "markdown",
   "metadata": {},
   "source": [
    "#### Basketball Players Stats per Season - 49 Leagues\n",
    "https://www.kaggle.com/jacobbaruch/basketball-players-stats-per-season-49-leagues  \n",
    "![Kaggledataset](figure/Basket_stat_kaggle.png)\n",
    "\n",
    "Data License: [CC BY-NC-SA 4.0](https://creativecommons.org/licenses/by-nc-sa/4.0/)  \n",
    "Kaggle Data scraped from the wonderful site: [basketball real gm](https://basketball.realgm.com/)  "
   ]
  },
  {
   "cell_type": "code",
   "execution_count": null,
   "metadata": {},
   "outputs": [],
   "source": [
    "# readin csv file into dataframe, Plotly mainly access Ddataframe as its input data format\n",
    "df = pd.read_csv('data/players_stats_by_season_full_details.csv')\n",
    "df.head()"
   ]
  },
  {
   "cell_type": "code",
   "execution_count": null,
   "metadata": {},
   "outputs": [],
   "source": [
    "df.describe()"
   ]
  },
  {
   "cell_type": "markdown",
   "metadata": {},
   "source": [
    "### Pie chart\n",
    "\n",
    "\n",
    "\n",
    "Example of pie chart in matplotlib.\n",
    "\n",
    "https://matplotlib.org/stable/gallery/pie_and_polar_charts/pie_features.html"
   ]
  },
  {
   "cell_type": "code",
   "execution_count": null,
   "metadata": {},
   "outputs": [],
   "source": [
    "# Draw pie chart of number of players in each league\n",
    "df_league =df.groupby([\"League\",\"Player\"]).count().reset_index()\n",
    "#df_league.head()\n",
    "#df_league.groupby([\"League\"]).count()\n",
    "players_league = df_league.groupby([\"League\"]).count()\n",
    "players_league.head()"
   ]
  },
  {
   "cell_type": "markdown",
   "metadata": {},
   "source": [
    "#### plt.piechart\n",
    "official reference of pie chart: https://matplotlib.org/stable/api/_as_gen/matplotlib.pyplot.pie.html\n"
   ]
  },
  {
   "cell_type": "code",
   "execution_count": null,
   "metadata": {},
   "outputs": [],
   "source": [
    "label = players_league.index.to_list()\n",
    "numbers = players_league[\"Player\"]\n",
    "fig, ax = plt.subplots()\n",
    "ax.pie(.....,labels=.....)"
   ]
  },
  {
   "cell_type": "markdown",
   "metadata": {},
   "source": [
    "### Histogram chart\n",
    "\n",
    "\n",
    "\n",
    "Basic histogram chart example \n",
    "\n",
    "https://matplotlib.org/stable/gallery/statistics/hist.html#sphx-glr-gallery-statistics-hist-py "
   ]
  },
  {
   "cell_type": "code",
   "execution_count": null,
   "metadata": {},
   "outputs": [],
   "source": [
    "# Compare three points attempts (3pa) between NBA and Euroleague of each year, each players\n",
    "\n",
    "fig, ax = plt.subplots()\n",
    "NBA3pa = df[df.League==\"NBA\"][\"3PA\"]\n",
    "Euro3pa = df[df.League==\"Euroleague\"][\"3PA\"]\n",
    "ax.hist(...., label=\"NBA\",alpha=0.7)\n",
    "ax.hist(...., label=\"Euroleague\",alpha=0.7)\n",
    "ax.legend(loc='upper right')"
   ]
  },
  {
   "cell_type": "code",
   "execution_count": null,
   "metadata": {},
   "outputs": [],
   "source": [
    "# sharing the same bins\n",
    "\n",
    "_, bins, _ = ax.hist(...., label=\"NBA\",alpha=0.7)\n",
    "ax.hist(....,bins=bins, label=\"Euroleague\",alpha=0.7)\n",
    "ax.legend(loc='upper right')"
   ]
  },
  {
   "cell_type": "markdown",
   "metadata": {},
   "source": [
    "### Bar Chart\n",
    "\n",
    "Basic Bar plots example: \n",
    "\n",
    "https://matplotlib.org/stable/gallery/lines_bars_and_markers/bar_colors.html#sphx-glr-gallery-lines-bars-and-markers-bar-colors-py\n",
    "\n",
    "\n",
    "https://matplotlib.org/stable/gallery/lines_bars_and_markers/barchart.html#sphx-glr-gallery-lines-bars-and-markers-barchart-py\n",
    "#### plt.bar  \n",
    "\n",
    "Reference: https://matplotlib.org/stable/api/_as_gen/matplotlib.pyplot.bar.html"
   ]
  },
  {
   "cell_type": "code",
   "execution_count": null,
   "metadata": {},
   "outputs": [],
   "source": [
    "# comparing total 3PA each year in NBA and Euroleague\n",
    "df_NBA_year= df[df.League==\"NBA\"].groupby([\"Season\"]).sum().reset_index(inplace=False)\n",
    "df_Euroleague_year= df[df.League==\"Euroleague\"].groupby([\"Season\"]).sum().reset_index(inplace=False)\n",
    "\n",
    "df_NBA_year.head()"
   ]
  },
  {
   "cell_type": "code",
   "execution_count": null,
   "metadata": {},
   "outputs": [],
   "source": [
    "fig, ax = plt.subplots(layout='constrained')\n",
    "Seasonlist = df_NBA_year[\"Season\"].to_list()\n",
    "width = 0.25  # the width of the bars\n",
    "multiplier = 0\n",
    "x = np.arange(len(Seasonlist))  # the label locations\n",
    "\n",
    "offset = width * multiplier\n",
    "\n",
    "NBA3pa = df_NBA_year[\"3PA\"]\n",
    "Euro3PA = df_Euroleague_year[\"3PA\"]\n",
    "\n",
    "rects = ax.bar(x + offset, .... , width, label=\"NBA\")\n",
    "ax.bar_label(rects, padding=5)\n",
    "multiplier += 1\n",
    "\n",
    "offset = width * multiplier\n",
    "rects = ax.bar(x + offset, .... , width, label=\"Euroleague\")\n",
    "ax.bar_label(rects, padding=5)\n",
    "\n",
    "ax.set_xticks(x + width, Seasonlist)\n",
    "ax.tick_params(axis='x', which='major', labelsize=6)\n",
    "ax.legend(loc='upper left')\n"
   ]
  },
  {
   "cell_type": "markdown",
   "metadata": {},
   "source": [
    "### Scatter Plot\n",
    "\n",
    "Scatter plots example: https://matplotlib.org/stable/gallery/lines_bars_and_markers/scatter_demo2.html#sphx-glr-gallery-lines-bars-and-markers-scatter-demo2-py\n",
    "#### plt.scatter\n",
    "\n",
    "Reference: https://matplotlib.org/stable/api/_as_gen/matplotlib.pyplot.scatter.html "
   ]
  },
  {
   "cell_type": "code",
   "execution_count": null,
   "metadata": {},
   "outputs": [],
   "source": [
    "# Field goals made and field goals attemp in NBA\n",
    "df_NBA_FG = df[df.League==\"NBA\"].groupby([\"Player\",\"Season\"]).sum().reset_index(inplace=False)\n",
    "df_NBA_FG.head()"
   ]
  },
  {
   "cell_type": "code",
   "execution_count": null,
   "metadata": {},
   "outputs": [],
   "source": [
    "text = df_NBA_FG['Player'].map('Player={} '.format) + df_NBA_FG['Season'].map('Season={}'.format)\n",
    "data = []\n",
    "\n",
    "fig, ax = plt.subplots(layout='constrained')\n",
    "df_NBA_FG['FGA']\n",
    "df_NBA_FG['FGM']\n",
    "df_NBA_FG['MIN']\n",
    "ax.scatter(x=.....,y=......,c= .....,alpha=0.5)\n",
    "\n",
    "ax.set_xlabel(r'Field Goal Attempt', fontsize=15)\n",
    "ax.set_ylabel(r'Field Goal Made', fontsize=15)\n",
    "ax.set_title('NBA players')\n",
    "\n",
    "\n",
    "# fit a line for data points\n",
    "m,b = np.polyfit(x=df_NBA_FG['FGA'],y=df_NBA_FG['FGM'], deg=1)\n",
    "bestfit_y = (df_NBA_FG['FGA'] * m + b)\n",
    "\n",
    "# draw the regression line\n",
    "ax.plot(\n",
    "    df_NBA_FG['FGA'],\n",
    "    bestfit_y\n",
    ")"
   ]
  },
  {
   "cell_type": "markdown",
   "metadata": {},
   "source": [
    "### Bubble Chart  \n",
    "\n",
    "Basic bubble chart example: https://towardsdatascience.com/bubble-plots-in-matplotlib-3f0b3927d8f9 \n",
    "\n",
    "Actually, you can define size of marker in scattering plot as bubble plot.\n",
    "\n",
    "#### plt.scatter"
   ]
  },
  {
   "cell_type": "code",
   "execution_count": null,
   "metadata": {},
   "outputs": [],
   "source": [
    "# Draw total points (PTS), three point made (3PM), and rebounds (REB) of each team each season in NBA\n",
    "df_NBA_team = df[df.League==\"NBA\"].groupby([\"Team\",\"Season\"]).sum().reset_index(inplace=False)\n",
    "\n",
    "df_NBA_team.head()"
   ]
  },
  {
   "cell_type": "code",
   "execution_count": null,
   "metadata": {},
   "outputs": [],
   "source": [
    "fig, ax = plt.subplots(layout='constrained')\n",
    "\n",
    "\n",
    "seasons = df_NBA_team[\"Season\"].unique()\n",
    "\n",
    "plots = [ax.scatter(x=df_NBA_team[df_NBA_team.Season==season][\"FGM\"],\n",
    "                    y=df_NBA_team[df_NBA_team.Season==season][\"3PM\"],\n",
    "                    s=df_NBA_team[df_NBA_team.Season==season][\"REB\"]/30.0,\n",
    "                    alpha=0.5,label=season) for season in seasons]\n",
    "\n",
    "\n",
    "ax.set_xlabel(\"FGM\")\n",
    "ax.set_ylabel(\"3PM\")\n",
    "ax.legend(loc='upper left')\n"
   ]
  },
  {
   "cell_type": "markdown",
   "metadata": {},
   "source": [
    "### Box Plot\n",
    "\n",
    "Basic box plot example: https://matplotlib.org/stable/gallery/statistics/boxplot_color.html#sphx-glr-gallery-statistics-boxplot-color-py\n",
    "\n",
    "\n",
    "#### plt.boxplot\n",
    "https://matplotlib.org/stable/api/_as_gen/matplotlib.pyplot.boxplot.html"
   ]
  },
  {
   "cell_type": "code",
   "execution_count": null,
   "metadata": {},
   "outputs": [],
   "source": [
    "df_2009 = df[(df.League==\"NBA\")&(df.Season==\"2009 - 2010\")].groupby([\"Team\"]).sum().reset_index(inplace=False)\n",
    "df_2014 = df[(df.League==\"NBA\")&(df.Season==\"2014 - 2015\")].groupby([\"Team\"]).sum().reset_index(inplace=False)\n",
    "df_2018 = df[(df.League==\"NBA\")&(df.Season==\"2018 - 2019\")].groupby([\"Team\"]).sum().reset_index(inplace=False)\n"
   ]
  },
  {
   "cell_type": "code",
   "execution_count": null,
   "metadata": {},
   "outputs": [],
   "source": [
    "fig, ax = plt.subplots(layout='constrained')\n",
    "\n",
    "list_3PA = [df_2009['3PA'],df_2014['3PA'],df_2018['3PA']]\n",
    "labels = ['2009','2014','2018']\n",
    "\n",
    "ax.boxplot(......,vert=True,  # vertical box alignment\n",
    "                     patch_artist=True,  # fill with color\n",
    "                     labels=labels)\n",
    "\n",
    "ax.set_title('3PA trends')\n",
    "ax.yaxis.grid(True)\n",
    "ax.set_xlabel('Seasons')\n",
    "ax.set_ylabel('Team 3PA')\n"
   ]
  },
  {
   "cell_type": "markdown",
   "metadata": {},
   "source": [
    "### Heatmap\n",
    "\n",
    "Heatmap example: https://matplotlib.org/stable/gallery/images_contours_and_fields/image_annotated_heatmap.html#sphx-glr-gallery-images-contours-and-fields-image-annotated-heatmap-py\n",
    "\n",
    "imshow reference: https://matplotlib.org/stable/api/_as_gen/matplotlib.pyplot.imshow.html\n",
    "\n",
    "seaborn heatmap example: https://seaborn.pydata.org/generated/seaborn.heatmap.html"
   ]
  },
  {
   "cell_type": "code",
   "execution_count": null,
   "metadata": {},
   "outputs": [],
   "source": [
    "# correlation of total stastics for each player in NBA\n",
    "df_NBA_player=df[(df.League==\"NBA\")&(df.Stage!=\"Playoffs\")].groupby([\"Player\"]).sum().drop(['birth_year', 'height_cm', 'weight', 'weight_kg','League','Stage','Season','Team','birth_month','birth_date','height','nationality','high_school'], axis=1)\n",
    "df_NBA_player.head()"
   ]
  },
  {
   "cell_type": "code",
   "execution_count": null,
   "metadata": {},
   "outputs": [],
   "source": [
    "corrs = df_NBA_player.corr()\n",
    "corrs"
   ]
  },
  {
   "cell_type": "code",
   "execution_count": null,
   "metadata": {},
   "outputs": [],
   "source": [
    "!pip install seaborn"
   ]
  },
  {
   "cell_type": "code",
   "execution_count": null,
   "metadata": {},
   "outputs": [],
   "source": [
    "import seaborn as sns"
   ]
  },
  {
   "cell_type": "code",
   "execution_count": null,
   "metadata": {},
   "outputs": [],
   "source": [
    "sns.heatmap(corrs, annot=True, linewidth=.5)"
   ]
  },
  {
   "cell_type": "code",
   "execution_count": null,
   "metadata": {},
   "outputs": [],
   "source": [
    "sns.heatmap(corrs, cmap=\"crest\")"
   ]
  },
  {
   "cell_type": "code",
   "execution_count": null,
   "metadata": {},
   "outputs": [],
   "source": []
  }
 ],
 "metadata": {
  "kernelspec": {
   "display_name": "Python 3 (ipykernel)",
   "language": "python",
   "name": "python3"
  },
  "language_info": {
   "codemirror_mode": {
    "name": "ipython",
    "version": 3
   },
   "file_extension": ".py",
   "mimetype": "text/x-python",
   "name": "python",
   "nbconvert_exporter": "python",
   "pygments_lexer": "ipython3",
   "version": "3.11.4"
  }
 },
 "nbformat": 4,
 "nbformat_minor": 4
}
